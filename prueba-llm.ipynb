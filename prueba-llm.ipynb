{
 "cells": [
  {
   "cell_type": "code",
   "execution_count": 7,
   "id": "0c15f6a2",
   "metadata": {},
   "outputs": [],
   "source": [
    "import os\n",
    "from dotenv import load_dotenv\n",
    "from openai import OpenAI"
   ]
  },
  {
   "cell_type": "code",
   "execution_count": 8,
   "id": "35993547",
   "metadata": {},
   "outputs": [],
   "source": [
    "load_dotenv()  # Carga las variables desde .env\n",
    "\n",
    "api_key = os.getenv(\"DEEPSEEK_KEY\")"
   ]
  },
  {
   "cell_type": "code",
   "execution_count": 9,
   "id": "7d0ca95d",
   "metadata": {},
   "outputs": [],
   "source": [
    "client = OpenAI(\n",
    "    api_key=os.getenv(\"DEEPSEEK_KEY\"),\n",
    "    base_url=\"https://openrouter.ai/api/v1\"\n",
    ")"
   ]
  },
  {
   "cell_type": "code",
   "execution_count": 10,
   "id": "3bda64bf",
   "metadata": {},
   "outputs": [],
   "source": [
    "def query_deepseek(prompt: str, model: str = \"deepseek/deepseek-chat-v3-0324:free\") -> str:\n",
    "    resp = client.chat.completions.create(\n",
    "        model=model,\n",
    "        messages=[{\"role\":\"user\", \"content\":prompt}],\n",
    "        temperature=0.6,\n",
    "        # Muestra la cantidad de output\n",
    "        max_tokens=4096,\n",
    "    )\n",
    "    return resp.choices[0].message.content.strip()"
   ]
  },
  {
   "cell_type": "code",
   "execution_count": 12,
   "id": "45e6afa9",
   "metadata": {
    "execution": {
     "iopub.execute_input": "2025-07-11T17:09:03.792728Z",
     "iopub.status.busy": "2025-07-11T17:09:03.792202Z",
     "iopub.status.idle": "2025-07-11T17:09:12.262649Z",
     "shell.execute_reply": "2025-07-11T17:09:12.261421Z"
    },
    "papermill": {
     "duration": 8.474858,
     "end_time": "2025-07-11T17:09:12.264132",
     "exception": true,
     "start_time": "2025-07-11T17:09:03.789274",
     "status": "failed"
    },
    "tags": []
   },
   "outputs": [
    {
     "ename": "ModuleNotFoundError",
     "evalue": "No module named 'langchain_community'",
     "output_type": "error",
     "traceback": [
      "\u001b[31m---------------------------------------------------------------------------\u001b[39m",
      "\u001b[31mModuleNotFoundError\u001b[39m                       Traceback (most recent call last)",
      "\u001b[36mCell\u001b[39m\u001b[36m \u001b[39m\u001b[32mIn[12]\u001b[39m\u001b[32m, line 2\u001b[39m\n\u001b[32m      1\u001b[39m \u001b[38;5;66;03m# Carga el notebook activo (puedes ver su nombre en Kaggle)\u001b[39;00m\n\u001b[32m----> \u001b[39m\u001b[32m2\u001b[39m \u001b[38;5;28;01mfrom\u001b[39;00m\u001b[38;5;250m \u001b[39m\u001b[34;01mlangchain_community\u001b[39;00m\u001b[34;01m.\u001b[39;00m\u001b[34;01mdocument_loaders\u001b[39;00m\u001b[38;5;250m \u001b[39m\u001b[38;5;28;01mimport\u001b[39;00m NotebookLoader\n\u001b[32m      4\u001b[39m loader = NotebookLoader(\u001b[33m\"\u001b[39m\u001b[33mprueba-llm.ipynb\u001b[39m\u001b[33m\"\u001b[39m, include_outputs=\u001b[38;5;28;01mFalse\u001b[39;00m, remove_newline=\u001b[38;5;28;01mTrue\u001b[39;00m)\n\u001b[32m      5\u001b[39m docs = loader.load()\n",
      "\u001b[31mModuleNotFoundError\u001b[39m: No module named 'langchain_community'"
     ]
    }
   ],
   "source": [
    "# Carga el notebook activo (puedes ver su nombre en Kaggle)\n",
    "from langchain_community.document_loaders import NotebookLoader\n",
    "\n",
    "loader = NotebookLoader(\"prueba-llm.ipynb\", include_outputs=False, remove_newline=True)\n",
    "docs = loader.load()\n",
    "print(f\"Celdas encontradas: {len(docs)}\")"
   ]
  },
  {
   "cell_type": "markdown",
   "id": "f613cb82",
   "metadata": {},
   "source": [
    "Este es el prompt que se debe hacer de manera general"
   ]
  },
  {
   "cell_type": "code",
   "execution_count": null,
   "id": "eb544cd3",
   "metadata": {},
   "outputs": [
    {
     "name": "stdout",
     "output_type": "stream",
     "text": [
      "Aquí está el código reescrito con mejoras de estilo y eficiencia, manteniendo la funcionalidad original y comentando los cambios realizados:\n",
      "\n",
      "```python\n",
      "# Importación del cargador de notebooks de LangChain\n",
      "from langchain_community.document_loaders import NotebookLoader\n",
      "\n",
      "# Se inicializa el cargador con parámetros específicos:\n",
      "# - Nombre del archivo: \"prueba-llm.ipynb\"\n",
      "# - include_outputs=False: no incluye salidas de celdas\n",
      "# - remove_newline=True: elimina saltos de línea\n",
      "loader = NotebookLoader(\n",
      "    file_path=\"prueba-llm.ipynb\",\n",
      "    include_outputs=False,\n",
      "    remove_newline=True\n",
      ")\n",
      "\n",
      "# Carga los documentos (celdas del notebook) y muestra el conteo\n",
      "docs = loader.load()\n",
      "print(f\"Celdas encontradas: {len(docs)}\")\n",
      "```\n",
      "\n",
      "# Mejoras realizadas:\n",
      "# 1. Formateo más limpio de la inicialización del NotebookLoader\n",
      "# 2. Parámetro renombrado de \"prueba-llm.ipynb\" a \"file_path\" para mayor claridad\n",
      "# 3. Comentarios más descriptivos y organizados\n",
      "# 4. Mantenimiento de la funcionalidad original sin cambios\n",
      "# 5. Se conservó el mensaje de salida con formateo de f-string\n"
     ]
    }
   ],
   "source": [
    "codigo_original = \"\"\"\n",
    "# Carga el notebook activo (puedes ver su nombre en Kaggle)\n",
    "from langchain_community.document_loaders import NotebookLoader\n",
    "\n",
    "loader = NotebookLoader(\"prueba-llm.ipynb\", include_outputs=False, remove_newline=True)\n",
    "docs = loader.load()\n",
    "print(f\"Celdas encontradas: {len(docs)}\")\n",
    "\"\"\"\n",
    "\n",
    "prompt = f\"\"\"Reescribe el siguiente código con mejoras de estilo y eficiencia, sin cambiar su funcionalidad:\\n{codigo_original},\n",
    "ademas quiero que todo lo que no este relacionado a codigo lo dejes comentado, incluyendo los cambios realizados\"\"\"\n",
    "\n",
    "respuesta = query_deepseek(prompt)\n",
    "print(respuesta)\n"
   ]
  },
  {
   "cell_type": "code",
   "execution_count": null,
   "id": "c428919f",
   "metadata": {},
   "outputs": [
    {
     "name": "stdout",
     "output_type": "stream",
     "text": [
      "🛠️ Sugerencia del modelo:\n",
      "\n",
      "Aquí está el código reescrito con mejoras de estilo y eficiencia, manteniendo la funcionalidad original y comentando los cambios realizados:\n",
      "\n",
      "```python\n",
      "# Importación del cargador de notebooks de LangChain\n",
      "from langchain_community.document_loaders import NotebookLoader\n",
      "\n",
      "# Se inicializa el cargador con parámetros específicos:\n",
      "# - Nombre del archivo: \"prueba-llm.ipynb\"\n",
      "# - include_outputs=False: no incluye salidas de celdas\n",
      "# - remove_newline=True: elimina saltos de línea\n",
      "loader = NotebookLoader(\n",
      "    file_path=\"prueba-llm.ipynb\",\n",
      "    include_outputs=False,\n",
      "    remove_newline=True\n",
      ")\n",
      "\n",
      "# Carga los documentos (celdas del notebook) y muestra el conteo\n",
      "docs = loader.load()\n",
      "print(f\"Celdas encontradas: {len(docs)}\")\n",
      "```\n",
      "\n",
      "# Mejoras realizadas:\n",
      "# 1. Formateo más limpio de la inicialización del NotebookLoader\n",
      "# 2. Parámetro renombrado de \"prueba-llm.ipynb\" a \"file_path\" para mayor claridad\n",
      "# 3. Comentarios más descriptivos y organizados\n",
      "# 4. Mantenimiento de la funcionalidad original sin cambios\n",
      "# 5. Se conservó el mensaje de salida con formateo de f-string\n"
     ]
    }
   ],
   "source": [
    "from IPython.core.getipython import get_ipython\n",
    "\n",
    "# Mostrar sugerencia\n",
    "print(\"🛠️ Sugerencia del modelo:\\n\")\n",
    "print(respuesta)\n",
    "\n",
    "# Opcional: reemplazar esta celda o copiarla en otra celda\n",
    "get_ipython().set_next_input(respuesta)"
   ]
  },
  {
   "cell_type": "code",
   "execution_count": null,
   "id": "e1bc6986",
   "metadata": {},
   "outputs": [],
   "source": [
    "def analizar_archivo(filepath: str, pregunta: str):\n",
    "    with open(filepath, \"r\", encoding=\"utf-8\") as f:\n",
    "        contenido = f.read()\n",
    "\n",
    "    prompt = f\"\"\"Tengo este archivo llamado `{filepath}` con el siguiente contenido:\n",
    "\n",
    "[INICIO DEL ARCHIVO]\n",
    "{contenido}\n",
    "[FIN DEL ARCHIVO]\n",
    "\n",
    "Ahora, por favor responde lo siguiente:\n",
    "{pregunta}\n",
    "\"\"\"\n",
    "    respuesta = query_deepseek(prompt)\n",
    "    print(respuesta)\n"
   ]
  },
  {
   "cell_type": "code",
   "execution_count": null,
   "id": "8f7daa18",
   "metadata": {},
   "outputs": [
    {
     "name": "stdout",
     "output_type": "stream",
     "text": [
      "Basándome en el diccionario de datos proporcionado, aquí tienes recomendaciones detalladas de feature engineering para optimizar el conjunto de datos:\n",
      "\n",
      "### 1. **Codificación de Variables Categóricas**\n",
      "   - **One-Hot Encoding** para variables nominales:\n",
      "     - `Basic_Demos-Enroll_Season` (4 estaciones)\n",
      "     - `CGAS-Season`, `Physical-Season`, etc. (patrón repetido de estaciones)\n",
      "   - **Label Encoding** para variables ordinales con jerarquía:\n",
      "     - `BIA-BIA_Activity_Level_num` (1=Very Light a 5=Exceptional)\n",
      "     - `computerinternet_hoursday` (0=Less than 1h/day a 3=More than 3hs/day)\n",
      "   - **Binary Encoding** para variables binarias:\n",
      "     - `Basic_Demos-Sex` (ya está codificado como 0/1)\n",
      "     - Variables de zona de fitness (ej. `FGC-FGC_CU_Zone`: 0/1)\n",
      "\n",
      "### 2. **Normalización/Estandarización**\n",
      "   - **StandardScaler** para variables continuas con posibles outliers:\n",
      "     - `Physical-BMI`, `Physical-Height`, `Physical-Weight`\n",
      "     - Variables de BIA como `BIA-BIA_Fat`, `BIA-BIA_SMM`\n",
      "   - **MinMaxScaler** para puntajes acotados:\n",
      "     - `PAQ_A_Total`, `PAQ_C_Total` (si tienen rangos definidos)\n",
      "     - `PCIAT_Total` (0-100)\n",
      "\n",
      "### 3. **Ingeniería de Features Temporales**\n",
      "   - **Extracción de componentes estacionales**:\n",
      "     - Crear variables cíclicas para las estaciones (seno/coseno) para capturar patrones estacionales.\n",
      "     - Ejemplo: Convertir \"Spring=0, Summer=1, ..., Winter=3\" en dos features con `sin(2π*x/4)` y `cos(2π*x/4)`.\n",
      "\n",
      "### 4. **Agregación de Features Relacionados**\n",
      "   - **FitnessGram**:\n",
      "     - Combinar `Time_Mins` y `Time_Sec` en segundos totales (`Total_Time_sec = Time_Mins*60 + Time_Sec`).\n",
      "     - Crear un \"Fitness Score\" compuesto agregando zonas de fitness normalizadas (ej. suma de `*_Zone`).\n",
      "   - **Grip Strength**:\n",
      "     - Ratio entre fuerza dominante y no dominante (`Grip_Ratio = FGC_GSD / FGC_GSND`).\n",
      "   - **Presión Arterial**:\n",
      "     - Crear `Pulse_Pressure` (Systolic_BP - Diastolic_BP).\n",
      "\n",
      "### 5. **Tratamiento de Features de Cuestionarios**\n",
      "   - **PCIAT**:\n",
      "     - Suma ponderada de ítems (ya existe `PCIAT_Total` pero podrían crearse sub-escalas):\n",
      "       - **Adicción Conductual**: Ítems 1-3, 9-11, 16-20.\n",
      "       - **Impacto Académico/Social**: Ítems 5-8, 12-15.\n",
      "   - **Sleep Disturbance Scale**:\n",
      "     - Binarizar `SDS_Total_T` usando puntos de corte clínicos (si están disponibles).\n",
      "\n",
      "### 6. **Interacciones y Features Polinómicos**\n",
      "   - **Interacciones Demográficas**:\n",
      "     - `Age * Sex` para capturar efectos diferenciales por género.\n",
      "     - `BMI * BIA_Body_Fat` para comparar medidas de composición corporal.\n",
      "   - **Cuestionarios y Actividad Física**:\n",
      "     - `PAQ_Total * Fitness_Endurance-Max_Stage` para relacionar actividad reportada y desempeño.\n",
      "\n",
      "### 7. **Target Engineering (si aplica)**\n",
      "   - Para problemas de clasificación:\n",
      "     - Binarizar `PCIAT_Total` en \"Riesgo de Adicción\" (ej. ≥50).\n",
      "     - Clasificación de salud cardiovascular basada en múltiples medidas físicas.\n",
      "\n",
      "### 8. **Manejo de Valores Faltantes**\n",
      "   - **Imputación específica**:\n",
      "     - Variables físicas: Imputar con la mediana agrupada por sexo/edad.\n",
      "     - Cuestionarios: Imputar con 0 en ítems si \"Does Not Apply\" es válido (PCIAT).\n",
      "\n",
      "### 9. **Reducción de Dimensionalidad**\n",
      "   - **PCA** para variables altamente correlacionadas:\n",
      "     - Medidas de composición corporal (BIA_BMC, BIA_FFM, BIA_SMM, etc.).\n",
      "     - Variables de FitnessGram (curl-ups, push-ups, trunk lift).\n",
      "\n",
      "### 10. **Feature Selection**\n",
      "   - **Correlación con target**: Eliminar features con correlación cercana a cero (si se conoce el target).\n",
      "   - **Varianza**: Eliminar variables constantes (ej. si todas las estaciones son \"Winter\" en un subconjunto).\n",
      "\n",
      "### Ejemplo Práctico (Python Pseudocódigo):\n",
      "```python\n",
      "# Ejemplo: Codificación cíclica de estaciones\n",
      "data['Season_sin'] = np.sin(2 * np.pi * data['Season_encoded']/4)\n",
      "data['Season_cos'] = np.cos(2 * np.pi * data['Season_encoded']/4)\n",
      "\n",
      "# Ejemplo: Creación de Pulse Pressure\n",
      "data['Pulse_Pressure'] = data['Physical-Systolic_BP'] - data['Physical-Diastolic_BP']\n",
      "```\n",
      "\n",
      "### Consideraciones Finales:\n",
      "- **Validar dominios clínicos**: Algunas transformaciones (ej. escalas de adicción) deben alinearse con literatura médica.\n",
      "- **Monitorizar leakage**: Features agregados no deben incluir información futura en problemas temporales.\n",
      "- **Iterar**: Evaluar el impacto de cada feature nuevo con métricas del modelo.\n",
      "\n",
      "¿Tienes un objetivo de modelado específico (ej. clasificación, regresión)? Esto ayudaría a afinar recomendaciones.\n"
     ]
    }
   ],
   "source": [
    "analizar_archivo(\"src/data/data_dictionary.csv\", \"¿Puedes revisar este archivo y recomendarme su feature engineering?\")"
   ]
  }
 ],
 "metadata": {
  "kaggle": {
   "accelerator": "none",
   "dataSources": [
    {
     "modelId": 362024,
     "modelInstanceId": 340777,
     "sourceId": 417764,
     "sourceType": "modelInstanceVersion"
    }
   ],
   "dockerImageVersionId": 31089,
   "isGpuEnabled": false,
   "isInternetEnabled": true,
   "language": "python",
   "sourceType": "notebook"
  },
  "kernelspec": {
   "display_name": ".venv",
   "language": "python",
   "name": "python3"
  },
  "language_info": {
   "codemirror_mode": {
    "name": "ipython",
    "version": 3
   },
   "file_extension": ".py",
   "mimetype": "text/x-python",
   "name": "python",
   "nbconvert_exporter": "python",
   "pygments_lexer": "ipython3",
   "version": "3.11.9"
  },
  "papermill": {
   "default_parameters": {},
   "duration": 29.181831,
   "end_time": "2025-07-11T17:09:12.886282",
   "environment_variables": {},
   "exception": true,
   "input_path": "__notebook__.ipynb",
   "output_path": "__notebook__.ipynb",
   "parameters": {},
   "start_time": "2025-07-11T17:08:43.704451",
   "version": "2.6.0"
  }
 },
 "nbformat": 4,
 "nbformat_minor": 5
}
